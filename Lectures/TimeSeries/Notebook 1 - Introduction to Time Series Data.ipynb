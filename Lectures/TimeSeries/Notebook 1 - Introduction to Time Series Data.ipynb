{
 "cells": [
  {
   "cell_type": "markdown",
   "metadata": {},
   "source": [
    "# Introduction to Time Series Data\n",
    "\n",
    "In this notebook we start our time series material. We will give a brief introduction to time series data. As a note, all of the theory presented in this section comes from the book <a href=\"https://otexts.com/fpp2/\">Forecasting: Principles and Practice</a>, by Rob J Hyndman and George Athanasopoulos. We will barely scratch the surface of this field, and luckily that reference is available for free online. If you'd like to read more, just click on the book title. The code in the book is in `R` so you will have to search for python equivalents.\n",
    "\n",
    "All of the data presented in this section of the course comes from the book's corresponding `R` library, `fpp2`.\n",
    "\n",
    "You'll be working through this notebook in a breakout session to give you an opportunity to get used to working with time series data.\n",
    "\n",
    "## What You Will Accomplish in This Notebook\n",
    "\n",
    "In particular you will:\n",
    "<ul>\n",
    "    <li>Familiarize yourself with common time series data types in python,</li>\n",
    "    <li>Plot some time series data,</li>\n",
    "    <li>Learn about common patterns in time series data,</li>\n",
    "    <li>How to split data for forecasting,</li>\n",
    "    <li>Examine three simple forecasting models.</li>\n",
    "</ul>"
   ]
  },
  {
   "cell_type": "markdown",
   "metadata": {},
   "source": [
    "## What is Time Series Data?\n",
    "\n",
    "A time series is any dataset where each observation corresponds to a specific time point.\n",
    "\n",
    "Some common examples are:\n",
    "<ul>\n",
    "    <li>Stock ticker prices,</li>\n",
    "    <li>Various climate measurements,</li>\n",
    "    <li>Quarterly production ammounts,</li>\n",
    "    <li>Points Scored by Michael Jordan each season of his career,</li>\n",
    "    <li>And more!</li>\n",
    "</ul>\n",
    "\n",
    "If we want to work with time series data, we need to be familiar with how python handles time.\n",
    "\n",
    "## Handling Time in Python\n",
    "\n",
    "Python offers a number of time related data objects, the three we'll focus on are `datetimes`, `numpy` `datetime64s`, and `pandas` `Timestamps`.\n",
    "\n",
    "### `datetimes`\n",
    "\n",
    "These are built into base python, and are stored in the `datetime` package. Explore below."
   ]
  },
  {
   "cell_type": "code",
   "execution_count": 1,
   "metadata": {},
   "outputs": [],
   "source": [
    "# here we import the datetime class\n",
    "from datetime import datetime"
   ]
  },
  {
   "cell_type": "code",
   "execution_count": 2,
   "metadata": {},
   "outputs": [],
   "source": [
    "# let's create a datetime\n",
    "test_1 = datetime(1992,7,27)"
   ]
  },
  {
   "cell_type": "code",
   "execution_count": null,
   "metadata": {},
   "outputs": [],
   "source": [
    "# see what you get when you run\n",
    "# test_1.day, test_1.month, or test_1.year\n",
    "\n",
    "\n",
    "\n",
    "\n"
   ]
  },
  {
   "cell_type": "code",
   "execution_count": null,
   "metadata": {},
   "outputs": [],
   "source": [
    "# What about test_1.hour, test_1.minute, \n",
    "# test_1.second, test_1.microsecond?\n",
    "\n",
    "\n"
   ]
  },
  {
   "cell_type": "code",
   "execution_count": null,
   "metadata": {},
   "outputs": [],
   "source": [
    "# In general you can make a datetime like so\n",
    "# datetime(year, month, day, hour, min, sec, micsec)\n",
    "\n",
    "\n"
   ]
  },
  {
   "cell_type": "code",
   "execution_count": null,
   "metadata": {},
   "outputs": [],
   "source": [
    "# You can find the current day, or exact time using\n",
    "# datetime.today() and datetime.now()\n",
    "\n",
    "\n",
    "\n"
   ]
  },
  {
   "cell_type": "markdown",
   "metadata": {},
   "source": [
    "You can learn more about `datetime` here, <a href=\"https://docs.python.org/3/library/datetime.html\">https://docs.python.org/3/library/datetime.html</a>. If you work on a project with time series data you'll need more than what we've introduced here."
   ]
  },
  {
   "cell_type": "markdown",
   "metadata": {},
   "source": [
    "### `numpy datetime64`\n",
    "\n",
    "This object doesn't have all of the functionality that `datetime` and is still in the experimental phase per the official documentation <a href=\"https://numpy.org/doc/stable/reference/arrays.datetime.html?highlight=datetime\">https://numpy.org/doc/stable/reference/arrays.datetime.html?highlight=datetime</a>.\n",
    "\n",
    "But it may be desirable to use `numpy`, especially when handling large amounts of data. So let's introduce it here."
   ]
  },
  {
   "cell_type": "code",
   "execution_count": 4,
   "metadata": {},
   "outputs": [],
   "source": [
    "import numpy as np"
   ]
  },
  {
   "cell_type": "code",
   "execution_count": 5,
   "metadata": {},
   "outputs": [],
   "source": [
    "# numpy datetime64s are created from strings\n",
    "# again the standard is year-month-day\n",
    "# followed by hour-minute-second\n",
    "# note months must be in double digit format\n",
    "test_2 = np.datetime64(\"1992-07-27 10:24:36\")"
   ]
  },
  {
   "cell_type": "code",
   "execution_count": 6,
   "metadata": {},
   "outputs": [
    {
     "data": {
      "text/plain": [
       "numpy.datetime64('1992-07-27T10:24:36')"
      ]
     },
     "execution_count": 6,
     "metadata": {},
     "output_type": "execute_result"
    }
   ],
   "source": [
    "test_2"
   ]
  },
  {
   "cell_type": "code",
   "execution_count": 7,
   "metadata": {},
   "outputs": [
    {
     "data": {
      "text/plain": [
       "array('1992-07-27', dtype='datetime64[D]')"
      ]
     },
     "execution_count": 7,
     "metadata": {},
     "output_type": "execute_result"
    }
   ],
   "source": [
    "# You can't access day, month etc\n",
    "# as with datetime objects, but\n",
    "# you can restrict to the level of time that\n",
    "# you want like so\n",
    "np.array(test_2, dtype=\"datetime64[D]\")"
   ]
  },
  {
   "cell_type": "code",
   "execution_count": null,
   "metadata": {},
   "outputs": [],
   "source": [
    "# try the getting the year using Y\n",
    "# try getting the month using M\n",
    "# try getting the hour using h\n",
    "\n",
    "\n",
    "\n"
   ]
  },
  {
   "cell_type": "code",
   "execution_count": 8,
   "metadata": {},
   "outputs": [
    {
     "data": {
      "text/plain": [
       "array(['2018-07', '2018-08', '2018-09', '2018-10', '2018-11', '2018-12',\n",
       "       '2019-01', '2019-02', '2019-03', '2019-04', '2019-05', '2019-06',\n",
       "       '2019-07', '2019-08', '2019-09', '2019-10', '2019-11', '2019-12',\n",
       "       '2020-01', '2020-02', '2020-03', '2020-04', '2020-05', '2020-06'],\n",
       "      dtype='datetime64[M]')"
      ]
     },
     "execution_count": 8,
     "metadata": {},
     "output_type": "execute_result"
    }
   ],
   "source": [
    "# you can get an np array of dates at\n",
    "# fixed intervals like so\n",
    "np.arange(np.datetime64('2018-07-27'),\n",
    "         np.datetime64('2020-07-28'),\n",
    "         dtype=\"datetime64[M]\")"
   ]
  },
  {
   "cell_type": "markdown",
   "metadata": {},
   "source": [
    "### `pandas Timestamp`"
   ]
  },
  {
   "cell_type": "code",
   "execution_count": 9,
   "metadata": {},
   "outputs": [],
   "source": [
    "import pandas as pd"
   ]
  },
  {
   "cell_type": "code",
   "execution_count": 10,
   "metadata": {},
   "outputs": [
    {
     "data": {
      "text/plain": [
       "Timestamp('1992-07-27 00:00:00')"
      ]
     },
     "execution_count": 10,
     "metadata": {},
     "output_type": "execute_result"
    }
   ],
   "source": [
    "# you can make it work like np.datetime64\n",
    "pd.Timestamp(\"1992-7-27\")"
   ]
  },
  {
   "cell_type": "code",
   "execution_count": 11,
   "metadata": {},
   "outputs": [
    {
     "data": {
      "text/plain": [
       "Timestamp('1992-07-27 00:00:00')"
      ]
     },
     "execution_count": 11,
     "metadata": {},
     "output_type": "execute_result"
    }
   ],
   "source": [
    "# or like datetime\n",
    "pd.Timestamp(1992,7,27)"
   ]
  },
  {
   "cell_type": "code",
   "execution_count": 12,
   "metadata": {},
   "outputs": [
    {
     "data": {
      "text/plain": [
       "DatetimeIndex(['1992-07-27', '1993-07-27', '1994-07-27', '1995-07-27',\n",
       "               '1996-07-27', '1997-07-27', '1998-07-27', '1999-07-27',\n",
       "               '2000-07-27', '2001-07-27', '2002-07-27', '2003-07-27',\n",
       "               '2004-07-27', '2005-07-27', '2006-07-27', '2007-07-27',\n",
       "               '2008-07-27', '2009-07-27', '2010-07-27', '2011-07-27',\n",
       "               '2012-07-27', '2013-07-27', '2014-07-27', '2015-07-27',\n",
       "               '2016-07-27', '2017-07-27', '2018-07-27', '2019-07-27'],\n",
       "              dtype='datetime64[ns]', freq=None)"
      ]
     },
     "execution_count": 12,
     "metadata": {},
     "output_type": "execute_result"
    }
   ],
   "source": [
    "# you can even make an array of datetimes\n",
    "# using to_datetime\n",
    "pd.to_datetime([str(year) + \"-7-27\" for year in range(1992,2020)])"
   ]
  },
  {
   "cell_type": "code",
   "execution_count": null,
   "metadata": {},
   "outputs": [],
   "source": [
    "# make a pd timestamp of your birthday\n",
    "\n",
    "\n",
    "\n"
   ]
  },
  {
   "cell_type": "code",
   "execution_count": null,
   "metadata": {},
   "outputs": [],
   "source": [
    "# make an array of timestamps of your birthday\n",
    "# every year since you were born\n",
    "\n",
    "\n",
    "\n"
   ]
  },
  {
   "cell_type": "markdown",
   "metadata": {},
   "source": [
    "## Plotting Time Series Data\n",
    "\n",
    "A main tool in examining how well your time series forecasting model fits is by plotting the prediction along with the training data. \n",
    "\n",
    "To that end let's work through some examples of plotting time series data."
   ]
  },
  {
   "cell_type": "code",
   "execution_count": 13,
   "metadata": {},
   "outputs": [],
   "source": [
    "import matplotlib.pyplot as plt\n",
    "import seaborn as sns\n",
    "sns.set_style(\"whitegrid\")"
   ]
  },
  {
   "cell_type": "code",
   "execution_count": 14,
   "metadata": {},
   "outputs": [],
   "source": [
    "measles = pd.read_csv(\"measles.csv\")\n",
    "\n",
    "# pandas reads the dates in as string by default\n",
    "# we have to make them in the right format\n",
    "measles['month'] = pd.to_datetime(measles['month'])"
   ]
  },
  {
   "cell_type": "code",
   "execution_count": 15,
   "metadata": {},
   "outputs": [
    {
     "data": {
      "text/html": [
       "<div>\n",
       "<style scoped>\n",
       "    .dataframe tbody tr th:only-of-type {\n",
       "        vertical-align: middle;\n",
       "    }\n",
       "\n",
       "    .dataframe tbody tr th {\n",
       "        vertical-align: top;\n",
       "    }\n",
       "\n",
       "    .dataframe thead th {\n",
       "        text-align: right;\n",
       "    }\n",
       "</style>\n",
       "<table border=\"1\" class=\"dataframe\">\n",
       "  <thead>\n",
       "    <tr style=\"text-align: right;\">\n",
       "      <th></th>\n",
       "      <th>month</th>\n",
       "      <th>cases</th>\n",
       "    </tr>\n",
       "  </thead>\n",
       "  <tbody>\n",
       "    <tr>\n",
       "      <td>0</td>\n",
       "      <td>1928-01-01</td>\n",
       "      <td>609</td>\n",
       "    </tr>\n",
       "    <tr>\n",
       "      <td>1</td>\n",
       "      <td>1928-02-01</td>\n",
       "      <td>1516</td>\n",
       "    </tr>\n",
       "    <tr>\n",
       "      <td>2</td>\n",
       "      <td>1928-03-01</td>\n",
       "      <td>4952</td>\n",
       "    </tr>\n",
       "    <tr>\n",
       "      <td>3</td>\n",
       "      <td>1928-04-01</td>\n",
       "      <td>7466</td>\n",
       "    </tr>\n",
       "    <tr>\n",
       "      <td>4</td>\n",
       "      <td>1928-05-01</td>\n",
       "      <td>11155</td>\n",
       "    </tr>\n",
       "    <tr>\n",
       "      <td>5</td>\n",
       "      <td>1928-06-01</td>\n",
       "      <td>7002</td>\n",
       "    </tr>\n",
       "    <tr>\n",
       "      <td>6</td>\n",
       "      <td>1928-07-01</td>\n",
       "      <td>1315</td>\n",
       "    </tr>\n",
       "    <tr>\n",
       "      <td>7</td>\n",
       "      <td>1928-08-01</td>\n",
       "      <td>189</td>\n",
       "    </tr>\n",
       "    <tr>\n",
       "      <td>8</td>\n",
       "      <td>1928-09-01</td>\n",
       "      <td>74</td>\n",
       "    </tr>\n",
       "    <tr>\n",
       "      <td>9</td>\n",
       "      <td>1928-10-01</td>\n",
       "      <td>119</td>\n",
       "    </tr>\n",
       "  </tbody>\n",
       "</table>\n",
       "</div>"
      ],
      "text/plain": [
       "       month  cases\n",
       "0 1928-01-01    609\n",
       "1 1928-02-01   1516\n",
       "2 1928-03-01   4952\n",
       "3 1928-04-01   7466\n",
       "4 1928-05-01  11155\n",
       "5 1928-06-01   7002\n",
       "6 1928-07-01   1315\n",
       "7 1928-08-01    189\n",
       "8 1928-09-01     74\n",
       "9 1928-10-01    119"
      ]
     },
     "execution_count": 15,
     "metadata": {},
     "output_type": "execute_result"
    }
   ],
   "source": [
    "# this data collects the number of measles \n",
    "# cases in London each month from Jan 1928\n",
    "# to June 1972\n",
    "measles.head(10)"
   ]
  },
  {
   "cell_type": "code",
   "execution_count": 17,
   "metadata": {},
   "outputs": [
    {
     "data": {
      "image/png": "[encoded data removed]",
      "text/plain": [
       "<Figure size 720x432 with 1 Axes>"
      ]
     },
     "metadata": {
      "needs_background": "light"
     },
     "output_type": "display_data"
    }
   ],
   "source": [
    "# matplotlib does a good job handling\n",
    "# datetime data\n",
    "plt.figure(figsize=(10,6))\n",
    "\n",
    "plt.plot(measles.month, measles.cases)\n",
    "\n",
    "plt.xlabel(\"Date\", fontsize=16)\n",
    "plt.ylabel(\"Cases of Measles \\n in London\", fontsize=16)\n",
    "\n",
    "case_1963 = measles.loc[measles.month == pd.Timestamp(1963,1,1),'cases'].values[0]\n",
    "plt.text(pd.Timestamp(1963,1,1), case_1963+15000,\n",
    "         \"Measles Vaccine \\n Developed\", fontsize=16)\n",
    "\n",
    "plt.arrow(pd.Timestamp(1963,1,1), case_1963+15000,\n",
    "          0,-15000, width=50, shape='left', color=\"black\")\n",
    "\n",
    "plt.xticks(rotation=90)\n",
    "\n",
    "plt.show()"
   ]
  },
  {
   "cell_type": "code",
   "execution_count": 18,
   "metadata": {},
   "outputs": [],
   "source": [
    "# Now you try by plotting this data\n",
    "ibm = pd.read_csv(\"ibm.csv\")"
   ]
  },
  {
   "cell_type": "code",
   "execution_count": 19,
   "metadata": {},
   "outputs": [
    {
     "data": {
      "text/html": [
       "<div>\n",
       "<style scoped>\n",
       "    .dataframe tbody tr th:only-of-type {\n",
       "        vertical-align: middle;\n",
       "    }\n",
       "\n",
       "    .dataframe tbody tr th {\n",
       "        vertical-align: top;\n",
       "    }\n",
       "\n",
       "    .dataframe thead th {\n",
       "        text-align: right;\n",
       "    }\n",
       "</style>\n",
       "<table border=\"1\" class=\"dataframe\">\n",
       "  <thead>\n",
       "    <tr style=\"text-align: right;\">\n",
       "      <th></th>\n",
       "      <th>closing_price</th>\n",
       "    </tr>\n",
       "  </thead>\n",
       "  <tbody>\n",
       "    <tr>\n",
       "      <td>0</td>\n",
       "      <td>460</td>\n",
       "    </tr>\n",
       "    <tr>\n",
       "      <td>1</td>\n",
       "      <td>457</td>\n",
       "    </tr>\n",
       "    <tr>\n",
       "      <td>2</td>\n",
       "      <td>452</td>\n",
       "    </tr>\n",
       "    <tr>\n",
       "      <td>3</td>\n",
       "      <td>459</td>\n",
       "    </tr>\n",
       "    <tr>\n",
       "      <td>4</td>\n",
       "      <td>462</td>\n",
       "    </tr>\n",
       "  </tbody>\n",
       "</table>\n",
       "</div>"
      ],
      "text/plain": [
       "   closing_price\n",
       "0            460\n",
       "1            457\n",
       "2            452\n",
       "3            459\n",
       "4            462"
      ]
     },
     "execution_count": 19,
     "metadata": {},
     "output_type": "execute_result"
    }
   ],
   "source": [
    "# Notice we don't have dates, but the data is daily\n",
    "# you can just use the index to count the days\n",
    "# chronologically\n",
    "ibm.head()"
   ]
  },
  {
   "cell_type": "code",
   "execution_count": null,
   "metadata": {},
   "outputs": [],
   "source": [
    "## plot here\n",
    "\n",
    "\n"
   ]
  },
  {
   "cell_type": "markdown",
   "metadata": {},
   "source": [
    "### Common Time Series  Patterns\n",
    "\n",
    "Plotting time series allows us to see some of the common patterns in time series data.\n",
    "<ol>\n",
    "    <li>Trends - where the data exhibits a general increase or decrease over time, and </li>\n",
    "    <li>Seasonality - where fluctuations in the data occur occur at fixed frequencies, for example how seasonal influenza cases tend to spread from October to May each year.</li>\n",
    "</ol>\n",
    "\n",
    "Let's see these in action with two more data sets."
   ]
  },
  {
   "cell_type": "code",
   "execution_count": 20,
   "metadata": {},
   "outputs": [
    {
     "data": {
      "text/html": [
       "<div>\n",
       "<style scoped>\n",
       "    .dataframe tbody tr th:only-of-type {\n",
       "        vertical-align: middle;\n",
       "    }\n",
       "\n",
       "    .dataframe tbody tr th {\n",
       "        vertical-align: top;\n",
       "    }\n",
       "\n",
       "    .dataframe thead th {\n",
       "        text-align: right;\n",
       "    }\n",
       "</style>\n",
       "<table border=\"1\" class=\"dataframe\">\n",
       "  <thead>\n",
       "    <tr style=\"text-align: right;\">\n",
       "      <th></th>\n",
       "      <th>year</th>\n",
       "      <th>time</th>\n",
       "    </tr>\n",
       "  </thead>\n",
       "  <tbody>\n",
       "    <tr>\n",
       "      <td>0</td>\n",
       "      <td>1897</td>\n",
       "      <td>175.166667</td>\n",
       "    </tr>\n",
       "    <tr>\n",
       "      <td>1</td>\n",
       "      <td>1898</td>\n",
       "      <td>162.000000</td>\n",
       "    </tr>\n",
       "    <tr>\n",
       "      <td>2</td>\n",
       "      <td>1899</td>\n",
       "      <td>174.633333</td>\n",
       "    </tr>\n",
       "    <tr>\n",
       "      <td>3</td>\n",
       "      <td>1900</td>\n",
       "      <td>159.733333</td>\n",
       "    </tr>\n",
       "    <tr>\n",
       "      <td>4</td>\n",
       "      <td>1901</td>\n",
       "      <td>149.383333</td>\n",
       "    </tr>\n",
       "  </tbody>\n",
       "</table>\n",
       "</div>"
      ],
      "text/plain": [
       "   year        time\n",
       "0  1897  175.166667\n",
       "1  1898  162.000000\n",
       "2  1899  174.633333\n",
       "3  1900  159.733333\n",
       "4  1901  149.383333"
      ]
     },
     "execution_count": 20,
     "metadata": {},
     "output_type": "execute_result"
    }
   ],
   "source": [
    "# plot the following Boston marathon times\n",
    "# from 1897 to 2016 to see an example of\n",
    "# time series data with a trend\n",
    "marathon = pd.read_csv(\"marathon.csv\")\n",
    "\n",
    "marathon.head()"
   ]
  },
  {
   "cell_type": "code",
   "execution_count": null,
   "metadata": {},
   "outputs": [],
   "source": [
    "## plot here\n",
    "\n",
    "\n",
    "\n",
    "\n"
   ]
  },
  {
   "cell_type": "markdown",
   "metadata": {},
   "source": [
    "What kind of trend did you see?\n",
    "\n",
    "\n",
    "\n"
   ]
  },
  {
   "cell_type": "code",
   "execution_count": 21,
   "metadata": {},
   "outputs": [
    {
     "data": {
      "text/html": [
       "<div>\n",
       "<style scoped>\n",
       "    .dataframe tbody tr th:only-of-type {\n",
       "        vertical-align: middle;\n",
       "    }\n",
       "\n",
       "    .dataframe tbody tr th {\n",
       "        vertical-align: top;\n",
       "    }\n",
       "\n",
       "    .dataframe thead th {\n",
       "        text-align: right;\n",
       "    }\n",
       "</style>\n",
       "<table border=\"1\" class=\"dataframe\">\n",
       "  <thead>\n",
       "    <tr style=\"text-align: right;\">\n",
       "      <th></th>\n",
       "      <th>month</th>\n",
       "      <th>cases</th>\n",
       "    </tr>\n",
       "  </thead>\n",
       "  <tbody>\n",
       "    <tr>\n",
       "      <td>324</td>\n",
       "      <td>1955-01-01</td>\n",
       "      <td>364</td>\n",
       "    </tr>\n",
       "    <tr>\n",
       "      <td>325</td>\n",
       "      <td>1955-02-01</td>\n",
       "      <td>603</td>\n",
       "    </tr>\n",
       "    <tr>\n",
       "      <td>326</td>\n",
       "      <td>1955-03-01</td>\n",
       "      <td>1305</td>\n",
       "    </tr>\n",
       "    <tr>\n",
       "      <td>327</td>\n",
       "      <td>1955-04-01</td>\n",
       "      <td>1853</td>\n",
       "    </tr>\n",
       "    <tr>\n",
       "      <td>328</td>\n",
       "      <td>1955-05-01</td>\n",
       "      <td>1865</td>\n",
       "    </tr>\n",
       "  </tbody>\n",
       "</table>\n",
       "</div>"
      ],
      "text/plain": [
       "         month  cases\n",
       "324 1955-01-01    364\n",
       "325 1955-02-01    603\n",
       "326 1955-03-01   1305\n",
       "327 1955-04-01   1853\n",
       "328 1955-05-01   1865"
      ]
     },
     "execution_count": 21,
     "metadata": {},
     "output_type": "execute_result"
    }
   ],
   "source": [
    "# Plot this subset of the measles data\n",
    "# from 1955 to 1964\n",
    "measles_subset = measles.loc[(measles.month > datetime(1954,12,1)) & (measles.month < datetime(1964,1,1)),]\n",
    "\n",
    "measles_subset.head()"
   ]
  },
  {
   "cell_type": "code",
   "execution_count": null,
   "metadata": {},
   "outputs": [],
   "source": [
    "# plot here\n",
    "\n",
    "\n",
    "\n",
    "\n"
   ]
  },
  {
   "cell_type": "markdown",
   "metadata": {},
   "source": [
    "Did you notice any seasonsality? Explain what you saw.\n",
    "\n",
    "\n"
   ]
  },
  {
   "cell_type": "code",
   "execution_count": 22,
   "metadata": {},
   "outputs": [
    {
     "data": {
      "text/html": [
       "<div>\n",
       "<style scoped>\n",
       "    .dataframe tbody tr th:only-of-type {\n",
       "        vertical-align: middle;\n",
       "    }\n",
       "\n",
       "    .dataframe tbody tr th {\n",
       "        vertical-align: top;\n",
       "    }\n",
       "\n",
       "    .dataframe thead th {\n",
       "        text-align: right;\n",
       "    }\n",
       "</style>\n",
       "<table border=\"1\" class=\"dataframe\">\n",
       "  <thead>\n",
       "    <tr style=\"text-align: right;\">\n",
       "      <th></th>\n",
       "      <th>day_to_day_diff</th>\n",
       "    </tr>\n",
       "  </thead>\n",
       "  <tbody>\n",
       "    <tr>\n",
       "      <td>0</td>\n",
       "      <td>-0.317932</td>\n",
       "    </tr>\n",
       "    <tr>\n",
       "      <td>1</td>\n",
       "      <td>4.793823</td>\n",
       "    </tr>\n",
       "    <tr>\n",
       "      <td>2</td>\n",
       "      <td>0.705414</td>\n",
       "    </tr>\n",
       "    <tr>\n",
       "      <td>3</td>\n",
       "      <td>2.478882</td>\n",
       "    </tr>\n",
       "    <tr>\n",
       "      <td>4</td>\n",
       "      <td>7.605530</td>\n",
       "    </tr>\n",
       "  </tbody>\n",
       "</table>\n",
       "</div>"
      ],
      "text/plain": [
       "   day_to_day_diff\n",
       "0        -0.317932\n",
       "1         4.793823\n",
       "2         0.705414\n",
       "3         2.478882\n",
       "4         7.605530"
      ]
     },
     "execution_count": 22,
     "metadata": {},
     "output_type": "execute_result"
    }
   ],
   "source": [
    "# read in this data on the \n",
    "# day to day differences in\n",
    "# Google's closing stock price over 1000\n",
    "# consecutive trading days\n",
    "goog_diff = pd.read_csv(\"goog_diff.csv\")\n",
    "\n",
    "goog_diff.head()"
   ]
  },
  {
   "cell_type": "code",
   "execution_count": null,
   "metadata": {},
   "outputs": [],
   "source": [
    "# Plot here\n",
    "\n",
    "\n",
    "\n"
   ]
  },
  {
   "cell_type": "markdown",
   "metadata": {},
   "source": [
    "Could you identify any sort of trend or seasonality?\n"
   ]
  },
  {
   "cell_type": "markdown",
   "metadata": {},
   "source": [
    "## Forecasting\n",
    "\n",
    "As with the regression data, our goal is ultimately to make predictions about data where we don't already know the outcome. With time series data this means we want to make models that will predict on future data, known as <i>forecasting</i>.\n",
    "\n",
    "### Updating Train-Test Splits\n",
    "\n",
    "Training a model to forecast is slightly different than our regression tasks. When we conduct our train-test split we can't just take any random collection of data points because these data come with a natural order, their times. \n",
    "\n",
    "So it is common to hold out testing data using the most recent observations. A common standard is $20\\%$, but the percentage depends on how far out you want to predict, known as the forecast's maximum <i>horizon</i>."
   ]
  },
  {
   "cell_type": "code",
   "execution_count": null,
   "metadata": {},
   "outputs": [],
   "source": [
    "# Make a train test split for the marathon data.\n",
    "# hold out 10% of the data for testing\n",
    "# call the train data marathon_train\n",
    "# call the test data marathon_test\n",
    "\n",
    "\n",
    "\n",
    "\n"
   ]
  },
  {
   "cell_type": "code",
   "execution_count": null,
   "metadata": {},
   "outputs": [],
   "source": [
    "# Additional Code here if needed\n",
    "\n",
    "\n",
    "\n",
    "\n"
   ]
  },
  {
   "cell_type": "code",
   "execution_count": null,
   "metadata": {},
   "outputs": [],
   "source": [
    "# Now break the measles data into two subsets\n",
    "# pre 1963 and post 1963\n",
    "\n",
    "\n",
    "\n"
   ]
  },
  {
   "cell_type": "code",
   "execution_count": null,
   "metadata": {},
   "outputs": [],
   "source": [
    "# using the pre 1963 data\n",
    "# make a train test split holding out all data\n",
    "# after 1959 for the test set\n",
    "# call the train data measles_train\n",
    "# call the test data measles_test\n",
    "\n",
    "\n",
    "\n"
   ]
  },
  {
   "cell_type": "code",
   "execution_count": null,
   "metadata": {},
   "outputs": [],
   "source": [
    "# additional coding here if needed\n",
    "\n",
    "\n",
    "\n",
    "\n",
    "\n"
   ]
  },
  {
   "cell_type": "markdown",
   "metadata": {},
   "source": [
    "### Three Simple Forecasting Methods\n",
    "\n",
    "We'll end by showing three simple forecasting methods. You'll use these to predict marathon times and measles cases.\n",
    "\n",
    "#### The Average Method\n",
    "\n",
    "Here you take all future observations to be the historical (training) data's average. The model can be written as:\n",
    "$$\n",
    "E(y_{T+1}|T) = \\hat{y}_{T+1|T}= \\frac{1}{T}\\sum_{t=1}^T y_t,\n",
    "$$\n",
    "where here $T$ is the number of observations in your data set, and were using $T+1|T$ to indicate the value at time $T+1$ given all of the values from time $1$ to $T$.\n",
    "\n",
    "#### The Na\\&iuml;ve Method\n",
    "\n",
    "Take all future observations to be the last observation in the training set. The model can be written as:\n",
    "$$\n",
    "\\hat{y}_{T+1|T} = y_T.\n",
    "$$"
   ]
  },
  {
   "cell_type": "code",
   "execution_count": null,
   "metadata": {},
   "outputs": [],
   "source": [
    "## Average Method\n",
    "# plot predictions using the average method for the \n",
    "# marathon data against the test data\n",
    "\n",
    "\n",
    "\n",
    "\n",
    "\n"
   ]
  },
  {
   "cell_type": "code",
   "execution_count": null,
   "metadata": {},
   "outputs": [],
   "source": [
    "# additional code here if needed\n",
    "\n",
    "\n",
    "\n",
    "\n",
    "\n"
   ]
  },
  {
   "cell_type": "code",
   "execution_count": null,
   "metadata": {},
   "outputs": [],
   "source": [
    "# here too\n",
    "\n",
    "\n",
    "\n",
    "\n"
   ]
  },
  {
   "cell_type": "code",
   "execution_count": null,
   "metadata": {},
   "outputs": [],
   "source": [
    "## Naive Method\n",
    "# plot predictions using the naive method for the \n",
    "# marathon data against the test data\n",
    "\n",
    "\n",
    "\n",
    "\n",
    "\n",
    "\n"
   ]
  },
  {
   "cell_type": "code",
   "execution_count": null,
   "metadata": {},
   "outputs": [],
   "source": [
    "# additional code here if needed\n",
    "\n",
    "\n",
    "\n",
    "\n",
    "\n"
   ]
  },
  {
   "cell_type": "code",
   "execution_count": null,
   "metadata": {},
   "outputs": [],
   "source": [
    "# here too\n",
    "\n",
    "\n",
    "\n",
    "\n"
   ]
  },
  {
   "cell_type": "markdown",
   "metadata": {},
   "source": [
    "#### The Seasonal Na\\&iuml;ve Method\n",
    "\n",
    "You can adapt the na\\&iuml;ve method for clearly seasonal data.\n",
    "\n",
    "Here instead of taking the observation from the end of the dataset, you use the observation from the corresponding point in the past \"season\". Assume the season lasts $m$ time units, then the model is:\n",
    "$$\n",
    "\\hat{y}_{T+1|T} = y_{T-m}.\n",
    "$$\n",
    "\n",
    "We can use this on the measles data."
   ]
  },
  {
   "cell_type": "code",
   "execution_count": 23,
   "metadata": {},
   "outputs": [],
   "source": [
    "measles_train = measles.loc[measles.month < datetime(1959,1,1),].copy()\n",
    "measles_test = measles.loc[(measles.month >= datetime(1959,1,1)) & (measles.month < datetime(1963,1,1))].copy()"
   ]
  },
  {
   "cell_type": "code",
   "execution_count": 27,
   "metadata": {},
   "outputs": [
    {
     "data": {
      "image/png": "[encoded data removed]",
      "text/plain": [
       "<Figure size 864x576 with 1 Axes>"
      ]
     },
     "metadata": {
      "needs_background": "light"
     },
     "output_type": "display_data"
    }
   ],
   "source": [
    "plt.figure(figsize=(12,8))\n",
    "\n",
    "plt.plot(measles_train.month,measles_train.cases)\n",
    "\n",
    "plt.axvline(x=datetime(1957,1,1), ymin=0, ymax=2500, color='r')\n",
    "plt.axvline(x=datetime(1958,12,1), ymin=0, ymax=2500, color='r')\n",
    "\n",
    "plt.axvline(x=datetime(1955,1,1), ymin=0, ymax=2500, color='r')\n",
    "plt.axvline(x=datetime(1957,1,1), ymin=0, ymax=2500, color='r')\n",
    "\n",
    "\n",
    "plt.axvline(x=datetime(1953,1,1), ymin=0, ymax=2500, color='r')\n",
    "plt.axvline(x=datetime(1955,1,1), ymin=0, ymax=2500, color='r')\n",
    "\n",
    "\n",
    "plt.axvline(x=datetime(1951,1,1), ymin=0, ymax=2500, color='r')\n",
    "plt.axvline(x=datetime(1953,1,1), ymin=0, ymax=2500, color='r')\n",
    "\n",
    "plt.xlim(datetime(1950,12,1),datetime(1959,1,1))\n",
    "\n",
    "plt.xlabel(\"Date\", fontsize=16)\n",
    "plt.ylabel(\"Cases\", fontsize=16)\n",
    "\n",
    "plt.show()"
   ]
  },
  {
   "cell_type": "markdown",
   "metadata": {},
   "source": [
    "It appears that the season is roughly two years long.\n",
    "\n",
    "So using the seasonal na\\&iuml;ve method for month $i$ we would use the observation for month $i$ from 2 years prior. For example, for January 1959 we'd use the cases from January 1957.\n",
    "\n",
    "We can get this in the dataframe using the index for when we'd like to predict and subtracting $24$ from it.\n",
    "\n",
    "Let's implement this below."
   ]
  },
  {
   "cell_type": "code",
   "execution_count": 28,
   "metadata": {},
   "outputs": [],
   "source": [
    "# Make a df to hold all the predictions we want\n",
    "measles_pred = measles.loc[measles.month < datetime(1963,1,1),].copy()\n",
    "\n",
    "# we want to predict on all months\n",
    "# starting in 1959\n",
    "measles_pred.loc[measles.month >= datetime(1959,1,1),'cases'] = -99\n",
    "\n",
    "# for each month we want to predict\n",
    "for date in  measles_test.month.values:\n",
    "    # get the index from two years prior\n",
    "    prediction_index = measles_pred.loc[measles.month == date,].index[0] - 24\n",
    "    # get the # of cases from that index\n",
    "    prediction = measles_pred.cases[prediction_index]\n",
    "    # make the prediction\n",
    "    measles_pred.loc[measles.month == date,'cases'] = prediction\n",
    "    \n",
    "# get rid of the training data to make plotting easier\n",
    "measles_pred = measles_pred.loc[measles_pred.month >= datetime(1959,1,1),]"
   ]
  },
  {
   "cell_type": "code",
   "execution_count": 35,
   "metadata": {},
   "outputs": [
    {
     "data": {
      "image/png": "[encoded data removed]",
      "text/plain": [
       "<Figure size 864x576 with 1 Axes>"
      ]
     },
     "metadata": {
      "needs_background": "light"
     },
     "output_type": "display_data"
    }
   ],
   "source": [
    "# plot the predictions\n",
    "plt.figure(figsize = (12,8))\n",
    "\n",
    "plt.plot(measles_train.month,measles_train.cases,'b',label=\"Training\")\n",
    "plt.plot(measles_pred.month,measles_pred.cases,'b--',label=\"Prediction\")\n",
    "plt.plot(measles_test.month,measles_test.cases,'r',label=\"Test\")\n",
    "\n",
    "plt.plot([measles_train.month.values[-1],measles_test.month.values[0]],\n",
    "        [measles_train.cases.values[-1],measles_test.cases.values[0]],\n",
    "        'r')\n",
    "\n",
    "plt.plot([measles_train.month.values[-1],measles_pred.month.values[0]],\n",
    "        [measles_train.cases.values[-1],measles_pred.cases.values[0]],\n",
    "        'b--')\n",
    "\n",
    "plt.xlabel(\"Date\", fontsize=16)\n",
    "plt.ylabel(\"Cases\", fontsize=16)\n",
    "\n",
    "plt.xlim((datetime(1956,1,1),datetime(1963,1,1)))\n",
    "\n",
    "plt.legend()\n",
    "\n",
    "plt.show()"
   ]
  },
  {
   "cell_type": "code",
   "execution_count": null,
   "metadata": {},
   "outputs": [],
   "source": [
    "# Use the naive method to project what \n",
    "# could have happened if the measles\n",
    "# vaccine was not developed in 1963\n",
    "# plot it versus what actually happened\n",
    "\n",
    "\n",
    "\n",
    "\n"
   ]
  },
  {
   "cell_type": "code",
   "execution_count": null,
   "metadata": {},
   "outputs": [],
   "source": [
    "# additional code here if needed\n",
    "\n",
    "\n",
    "\n",
    "\n",
    "\n"
   ]
  },
  {
   "cell_type": "code",
   "execution_count": null,
   "metadata": {},
   "outputs": [],
   "source": [
    "# here too\n",
    "\n",
    "\n",
    "\n",
    "\n"
   ]
  },
  {
   "cell_type": "markdown",
   "metadata": {},
   "source": [
    "That's it for this notebook!\n",
    "\n",
    "Next lag and autocorrelation in time series."
   ]
  },
  {
   "cell_type": "markdown",
   "metadata": {},
   "source": [
    "### References\n",
    "\n",
    "Chapters 2 and 3 of <a href=\"https://otexts.com/fpp2/\">Forecasting: Principles and Practice</a>, by Rob J Hyndman and George Athanasopoulos.\n",
    "\n",
    "`datetime` <a href=\"https://docs.python.org/3/library/datetime.html\">documentation</a>\n",
    "\n",
    "This blog post on `np.datetime64` <a href=\"https://blog.finxter.com/how-to-work-with-dates-and-times-in-python/\">https://blog.finxter.com/how-to-work-with-dates-and-times-in-python/</a>\n",
    "\n",
    "`pandas` documentation <a href=\"https://pandas.pydata.org/\">https://pandas.pydata.org/</a>"
   ]
  },
  {
   "cell_type": "code",
   "execution_count": null,
   "metadata": {},
   "outputs": [],
   "source": []
  }
 ],
 "metadata": {
  "kernelspec": {
   "display_name": "Python 3",
   "language": "python",
   "name": "python3"
  },
  "language_info": {
   "codemirror_mode": {
    "name": "ipython",
    "version": 3
   },
   "file_extension": ".py",
   "mimetype": "text/x-python",
   "name": "python",
   "nbconvert_exporter": "python",
   "pygments_lexer": "ipython3",
   "version": "3.7.4"
  }
 },
 "nbformat": 4,
 "nbformat_minor": 2
}
